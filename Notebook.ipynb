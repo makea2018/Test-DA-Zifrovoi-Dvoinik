{
 "cells": [
  {
   "cell_type": "markdown",
   "id": "3f313c30-de5a-4852-99ef-6ed85243271c",
   "metadata": {},
   "source": [
    "# Импорт библиотек"
   ]
  },
  {
   "cell_type": "code",
   "execution_count": 1,
   "id": "c05f8aa3-b6b2-401c-8a0e-a01354e28870",
   "metadata": {
    "collapsed": true,
    "jupyter": {
     "outputs_hidden": true
    }
   },
   "outputs": [
    {
     "name": "stderr",
     "output_type": "stream",
     "text": [
      "\n",
      "Присоединяю пакет: 'ggplot2'\n",
      "\n",
      "\n",
      "Следующие объекты скрыты от 'package:psych':\n",
      "\n",
      "    %+%, alpha\n",
      "\n",
      "\n",
      "\n",
      "Присоединяю пакет: 'scales'\n",
      "\n",
      "\n",
      "Следующие объекты скрыты от 'package:psych':\n",
      "\n",
      "    alpha, rescale\n",
      "\n",
      "\n",
      "\n",
      "Присоединяю пакет: 'dplyr'\n",
      "\n",
      "\n",
      "Следующие объекты скрыты от 'package:stats':\n",
      "\n",
      "    filter, lag\n",
      "\n",
      "\n",
      "Следующие объекты скрыты от 'package:base':\n",
      "\n",
      "    intersect, setdiff, setequal, union\n",
      "\n",
      "\n"
     ]
    }
   ],
   "source": [
    "library(psych)\n",
    "library(ggplot2)\n",
    "library(scales)\n",
    "library(dplyr)"
   ]
  },
  {
   "cell_type": "markdown",
   "id": "47ff686b-a500-4f37-a50c-882ee3fda9db",
   "metadata": {},
   "source": [
    "# Работа с данными"
   ]
  },
  {
   "cell_type": "markdown",
   "id": "8972d788-98a4-4e5a-8d88-57afddfc21d3",
   "metadata": {},
   "source": [
    "## Чтение данных"
   ]
  },
  {
   "cell_type": "code",
   "execution_count": 2,
   "id": "ee9d8c1f-2292-4a81-a2b0-e5096a3b41f0",
   "metadata": {},
   "outputs": [],
   "source": [
    "df <- read.csv(\"Data/forFBpost.csv\", sep = ';')"
   ]
  },
  {
   "cell_type": "code",
   "execution_count": 3,
   "id": "70249b3d-7d4c-4a27-84cd-883d27b0f17e",
   "metadata": {},
   "outputs": [],
   "source": [
    "# Переименуем колонки (Чтобы были в одном стиле)\n",
    "names(df) <- c(\"City\", \"Year\", \"Fact\", \"Model\", \"Low_bound\", \"High_bound\")"
   ]
  },
  {
   "cell_type": "code",
   "execution_count": 4,
   "id": "09b3f6be-a426-4d7b-853b-502adc591ab1",
   "metadata": {},
   "outputs": [
    {
     "data": {
      "text/html": [
       "<table class=\"dataframe\">\n",
       "<caption>A data.frame: 5 × 6</caption>\n",
       "<thead>\n",
       "\t<tr><th></th><th scope=col>City</th><th scope=col>Year</th><th scope=col>Fact</th><th scope=col>Model</th><th scope=col>Low_bound</th><th scope=col>High_bound</th></tr>\n",
       "\t<tr><th></th><th scope=col>&lt;chr&gt;</th><th scope=col>&lt;int&gt;</th><th scope=col>&lt;int&gt;</th><th scope=col>&lt;dbl&gt;</th><th scope=col>&lt;dbl&gt;</th><th scope=col>&lt;dbl&gt;</th></tr>\n",
       "</thead>\n",
       "<tbody>\n",
       "\t<tr><th scope=row>1</th><td>Белокуриха</td><td>2000</td><td>NA</td><td>15400</td><td>15100</td><td>15700</td></tr>\n",
       "\t<tr><th scope=row>2</th><td>Белокуриха</td><td>2001</td><td>NA</td><td>15400</td><td>15100</td><td>15700</td></tr>\n",
       "\t<tr><th scope=row>3</th><td>Белокуриха</td><td>2002</td><td>NA</td><td>15400</td><td>15000</td><td>15700</td></tr>\n",
       "\t<tr><th scope=row>4</th><td>Белокуриха</td><td>2003</td><td>NA</td><td>15300</td><td>15000</td><td>15700</td></tr>\n",
       "\t<tr><th scope=row>5</th><td>Белокуриха</td><td>2004</td><td>NA</td><td>15300</td><td>14900</td><td>15600</td></tr>\n",
       "</tbody>\n",
       "</table>\n"
      ],
      "text/latex": [
       "A data.frame: 5 × 6\n",
       "\\begin{tabular}{r|llllll}\n",
       "  & City & Year & Fact & Model & Low\\_bound & High\\_bound\\\\\n",
       "  & <chr> & <int> & <int> & <dbl> & <dbl> & <dbl>\\\\\n",
       "\\hline\n",
       "\t1 & Белокуриха & 2000 & NA & 15400 & 15100 & 15700\\\\\n",
       "\t2 & Белокуриха & 2001 & NA & 15400 & 15100 & 15700\\\\\n",
       "\t3 & Белокуриха & 2002 & NA & 15400 & 15000 & 15700\\\\\n",
       "\t4 & Белокуриха & 2003 & NA & 15300 & 15000 & 15700\\\\\n",
       "\t5 & Белокуриха & 2004 & NA & 15300 & 14900 & 15600\\\\\n",
       "\\end{tabular}\n"
      ],
      "text/markdown": [
       "\n",
       "A data.frame: 5 × 6\n",
       "\n",
       "| <!--/--> | City &lt;chr&gt; | Year &lt;int&gt; | Fact &lt;int&gt; | Model &lt;dbl&gt; | Low_bound &lt;dbl&gt; | High_bound &lt;dbl&gt; |\n",
       "|---|---|---|---|---|---|---|\n",
       "| 1 | Белокуриха | 2000 | NA | 15400 | 15100 | 15700 |\n",
       "| 2 | Белокуриха | 2001 | NA | 15400 | 15100 | 15700 |\n",
       "| 3 | Белокуриха | 2002 | NA | 15400 | 15000 | 15700 |\n",
       "| 4 | Белокуриха | 2003 | NA | 15300 | 15000 | 15700 |\n",
       "| 5 | Белокуриха | 2004 | NA | 15300 | 14900 | 15600 |\n",
       "\n"
      ],
      "text/plain": [
       "  City       Year Fact Model Low_bound High_bound\n",
       "1 Белокуриха 2000 NA   15400 15100     15700     \n",
       "2 Белокуриха 2001 NA   15400 15100     15700     \n",
       "3 Белокуриха 2002 NA   15400 15000     15700     \n",
       "4 Белокуриха 2003 NA   15300 15000     15700     \n",
       "5 Белокуриха 2004 NA   15300 14900     15600     "
      ]
     },
     "metadata": {},
     "output_type": "display_data"
    }
   ],
   "source": [
    "head(df, 5)"
   ]
  },
  {
   "cell_type": "markdown",
   "id": "002b8c4c-4afd-4247-96f1-b9a7fb45a060",
   "metadata": {},
   "source": [
    "## Описание данных"
   ]
  },
  {
   "cell_type": "code",
   "execution_count": 5,
   "id": "56e39c57-3d18-4c8d-8e64-5527bd85850d",
   "metadata": {},
   "outputs": [
    {
     "name": "stdout",
     "output_type": "stream",
     "text": [
      "'data.frame':\t30250 obs. of  6 variables:\n",
      " $ City      : chr  \"Белокуриха\" \"Белокуриха\" \"Белокуриха\" \"Белокуриха\" ...\n",
      " $ Year      : int  2000 2001 2002 2003 2004 2005 2006 2007 2008 2009 ...\n",
      " $ Fact      : int  NA NA NA NA NA NA NA NA 14781 14781 ...\n",
      " $ Model     : num  15400 15400 15400 15300 15300 15200 15100 15000 14900 14800 ...\n",
      " $ Low_bound : num  15100 15100 15000 15000 14900 14800 14700 14600 14600 14500 ...\n",
      " $ High_bound: num  15700 15700 15700 15700 15600 15500 15400 15300 15200 15100 ...\n"
     ]
    }
   ],
   "source": [
    "# Типы данных\n",
    "str(df)"
   ]
  },
  {
   "cell_type": "code",
   "execution_count": 6,
   "id": "49d858ed-7a06-47b2-bc06-8fe895200e12",
   "metadata": {},
   "outputs": [
    {
     "name": "stdout",
     "output_type": "stream",
     "text": [
      "Кол-во строк в df =  30250 \n",
      "Кол-во столбцов в df =  6"
     ]
    }
   ],
   "source": [
    "# Размер df\n",
    "cat(\"Кол-во строк в df = \", dim(df)[1],\n",
    "    \"\\nКол-во столбцов в df = \", dim(df)[2])"
   ]
  },
  {
   "cell_type": "code",
   "execution_count": 7,
   "id": "765003e9-26bb-41d1-9ea2-0a78fb0e7c83",
   "metadata": {},
   "outputs": [
    {
     "name": "stdout",
     "output_type": "stream",
     "text": [
      "Данные представлены за промежуток от  2000 года до  2120 года."
     ]
    }
   ],
   "source": [
    "# Кол-во лет, на которые опираются данные (прошлое-будущее)\n",
    "unique_years <- unique(df$Year)\n",
    "cat(\"Данные представлены за промежуток от \", unique_years[1],\n",
    "    \"года до \", tail(unique_years, 1), \"года.\")"
   ]
  },
  {
   "cell_type": "code",
   "execution_count": 8,
   "id": "9eb609f0-7591-49da-a785-d50294fa4e63",
   "metadata": {},
   "outputs": [
    {
     "name": "stdout",
     "output_type": "stream",
     "text": [
      "      City       Year       Fact      Model  Low_bound High_bound \n",
      "         0          0      27000          0          0          0 \n"
     ]
    }
   ],
   "source": [
    "# Считаем кол-во пропусков в данных для каждой переменной\n",
    "print(sapply(df, function (x) sum(is.na(x))))"
   ]
  },
  {
   "cell_type": "markdown",
   "id": "ed865c9c-aa8d-48b9-ac14-bda6928aeade",
   "metadata": {},
   "source": [
    "В столбце **Fact** (фактическая численность населения города) имеется *27000* пропусков (NA).  \n",
    "Пропусков много, так что можно:\n",
    "1. Либо заменить их на $fact = mean(Верхняя.граница - Нижняя.граница)$;\n",
    "2. Либо заменить $fact = median(Верхняя.граница - Нижняя.граница)$."
   ]
  },
  {
   "cell_type": "code",
   "execution_count": 9,
   "id": "3f92e228-c6d8-4bf7-b3dd-2bf49a92882c",
   "metadata": {},
   "outputs": [
    {
     "data": {
      "text/html": [
       "<table class=\"dataframe\">\n",
       "<caption>A data.frame: 1 × 3</caption>\n",
       "<thead>\n",
       "\t<tr><th></th><th scope=col>City</th><th scope=col>Year</th><th scope=col>Fact</th></tr>\n",
       "\t<tr><th></th><th scope=col>&lt;chr&gt;</th><th scope=col>&lt;int&gt;</th><th scope=col>&lt;int&gt;</th></tr>\n",
       "</thead>\n",
       "<tbody>\n",
       "\t<tr><th scope=row>15751</th><td>Москва</td><td>2020</td><td>12678079</td></tr>\n",
       "</tbody>\n",
       "</table>\n"
      ],
      "text/latex": [
       "A data.frame: 1 × 3\n",
       "\\begin{tabular}{r|lll}\n",
       "  & City & Year & Fact\\\\\n",
       "  & <chr> & <int> & <int>\\\\\n",
       "\\hline\n",
       "\t15751 & Москва & 2020 & 12678079\\\\\n",
       "\\end{tabular}\n"
      ],
      "text/markdown": [
       "\n",
       "A data.frame: 1 × 3\n",
       "\n",
       "| <!--/--> | City &lt;chr&gt; | Year &lt;int&gt; | Fact &lt;int&gt; |\n",
       "|---|---|---|---|\n",
       "| 15751 | Москва | 2020 | 12678079 |\n",
       "\n"
      ],
      "text/plain": [
       "      City   Year Fact    \n",
       "15751 Москва 2020 12678079"
      ]
     },
     "metadata": {},
     "output_type": "display_data"
    }
   ],
   "source": [
    "# Город с максимальной фактической численностью населения\n",
    "subset(df, Fact == max(df$Fact, na.rm = T))[, c(1:3)]"
   ]
  },
  {
   "cell_type": "code",
   "execution_count": 10,
   "id": "fa5e21fe-5024-4bf3-82c6-db22ba9698aa",
   "metadata": {},
   "outputs": [
    {
     "data": {
      "text/html": [
       "<table class=\"dataframe\">\n",
       "<caption>A data.frame: 3 × 3</caption>\n",
       "<thead>\n",
       "\t<tr><th></th><th scope=col>City</th><th scope=col>Year</th><th scope=col>Fact</th></tr>\n",
       "\t<tr><th></th><th scope=col>&lt;chr&gt;</th><th scope=col>&lt;int&gt;</th><th scope=col>&lt;int&gt;</th></tr>\n",
       "</thead>\n",
       "<tbody>\n",
       "\t<tr><th scope=row>7874</th><td>Плес</td><td>2008</td><td>2370</td></tr>\n",
       "\t<tr><th scope=row>7875</th><td>Плес</td><td>2009</td><td>2370</td></tr>\n",
       "\t<tr><th scope=row>7876</th><td>Плес</td><td>2010</td><td>2370</td></tr>\n",
       "</tbody>\n",
       "</table>\n"
      ],
      "text/latex": [
       "A data.frame: 3 × 3\n",
       "\\begin{tabular}{r|lll}\n",
       "  & City & Year & Fact\\\\\n",
       "  & <chr> & <int> & <int>\\\\\n",
       "\\hline\n",
       "\t7874 & Плес & 2008 & 2370\\\\\n",
       "\t7875 & Плес & 2009 & 2370\\\\\n",
       "\t7876 & Плес & 2010 & 2370\\\\\n",
       "\\end{tabular}\n"
      ],
      "text/markdown": [
       "\n",
       "A data.frame: 3 × 3\n",
       "\n",
       "| <!--/--> | City &lt;chr&gt; | Year &lt;int&gt; | Fact &lt;int&gt; |\n",
       "|---|---|---|---|\n",
       "| 7874 | Плес | 2008 | 2370 |\n",
       "| 7875 | Плес | 2009 | 2370 |\n",
       "| 7876 | Плес | 2010 | 2370 |\n",
       "\n"
      ],
      "text/plain": [
       "     City Year Fact\n",
       "7874 Плес 2008 2370\n",
       "7875 Плес 2009 2370\n",
       "7876 Плес 2010 2370"
      ]
     },
     "metadata": {},
     "output_type": "display_data"
    }
   ],
   "source": [
    "# Город с минимальной фактической численностью населения\n",
    "subset(df, Fact == min(df$Fact, na.rm = T))[, c(1:3)]"
   ]
  },
  {
   "cell_type": "markdown",
   "id": "cfaa1694-3830-409b-8d56-ee8eefcb457d",
   "metadata": {},
   "source": [
    "Для работы с настоящим оставим только данные с 2000 - 2023"
   ]
  },
  {
   "cell_type": "code",
   "execution_count": 11,
   "id": "bd0d7f2b-b9ae-45a0-ae96-46bb6d6bdafb",
   "metadata": {},
   "outputs": [],
   "source": [
    "# Для работы с настоящим оставим только данные с 2000 - 2023\n",
    "present_df <- subset(df, Year %in% 2000:2023)"
   ]
  },
  {
   "cell_type": "markdown",
   "id": "1567fd73-da3d-43a7-8916-1b46884a690b",
   "metadata": {},
   "source": [
    "Заполним пропуски населения средними значениями = (High_bound - Low_bound)"
   ]
  },
  {
   "cell_type": "code",
   "execution_count": 12,
   "id": "d226104c-e375-4f8e-b362-8c027d48dd36",
   "metadata": {},
   "outputs": [],
   "source": [
    "# Заменим пропуски на средние значения\n",
    "res <- (present_df$Low_bound + present_df$High_bound) / 2\n",
    "present_df$Fact <- ifelse(is.na(present_df$Fact), res, present_df$Fact)"
   ]
  },
  {
   "cell_type": "markdown",
   "id": "9a3be886-84b8-47a5-8999-190f6bf53e4b",
   "metadata": {},
   "source": [
    "# Визуализация данных"
   ]
  },
  {
   "cell_type": "code",
   "execution_count": 13,
   "id": "131fd82c-88df-4bfd-aa46-959bfa977d28",
   "metadata": {},
   "outputs": [],
   "source": [
    "# Общая тема оформления для графиков\n",
    "my_theme <- theme(plot.title = element_text(size = 20, face = \"bold\"),\n",
    "                  axis.title.y = element_text(size = 14),\n",
    "                  axis.title.x = element_text(size = 14),\n",
    "                  axis.text.x = element_text(size = 10),\n",
    "                  axis.text.y = element_text(size = 10))"
   ]
  },
  {
   "cell_type": "markdown",
   "id": "38d7d13d-32e4-48f9-8861-287d880fc0ff",
   "metadata": {},
   "source": [
    "## Топ 10 самых населенных городов"
   ]
  },
  {
   "cell_type": "code",
   "execution_count": 14,
   "id": "a29a0cc1-3147-4ae3-a75d-1855ccede832",
   "metadata": {},
   "outputs": [
    {
     "data": {
      "image/png": "[encoded data removed]",
      "text/plain": [
       "plot without title"
      ]
     },
     "metadata": {
      "image/png": {
       "height": 420,
       "width": 420
      }
     },
     "output_type": "display_data"
    }
   ],
   "source": [
    "# Топ 10 самых больших городов\n",
    "res <- aggregate(Fact ~ City, df, FUN = max)\n",
    "res <- res[order(res$Fact, decreasing = T), ][1:10, ]; names(res)[2] <- \"Fact\"\n",
    "\n",
    "ggplot(res, aes(x = reorder(City, -Fact),\n",
    "                y = Fact)) + \n",
    "  geom_bar(stat = \"identity\", fill = 4) + \n",
    "  ggtitle(\"Топ 10 самых населеленных городов России\") + \n",
    "  my_theme + \n",
    "  theme(axis.title.x = element_blank(),\n",
    "        axis.text.x = element_text(angle = 90, hjust = 1, face = \"bold\"),\n",
    "        axis.text.y = element_blank()) + \n",
    "  geom_text(aes(label=Fact), vjust=-0.3, size=3) +\n",
    "  ylab(\"Количество населения\")"
   ]
  },
  {
   "cell_type": "markdown",
   "id": "5e44133a-04bd-4f87-b04c-8527f3f0a384",
   "metadata": {},
   "source": [
    "## Топ 10 самых маленьких городов по населению"
   ]
  },
  {
   "cell_type": "code",
   "execution_count": 15,
   "id": "c1258436-fe63-4175-a5c4-cbdfc76ae7f8",
   "metadata": {},
   "outputs": [
    {
     "data": {
      "image/png": "[encoded data removed]",
      "text/plain": [
       "plot without title"
      ]
     },
     "metadata": {
      "image/png": {
       "height": 420,
       "width": 420
      }
     },
     "output_type": "display_data"
    }
   ],
   "source": [
    "# Топ 10 самых маленьких городов по населению\n",
    "res <- aggregate(Fact ~ City, df, FUN = max)\n",
    "res <- res[order(res$Fact), ][1:10, ]; names(res)[2] <- \"Fact\"\n",
    "\n",
    "ggplot(res, aes(x = reorder(City, -Fact),\n",
    "                y = Fact)) + \n",
    "  geom_bar(stat = \"identity\", fill = \"#69b3a2\") + \n",
    "  ggtitle(\"Топ 10 самых маленьких городов России\") + \n",
    "  my_theme + \n",
    "  theme(axis.title.x = element_blank(),\n",
    "        axis.text.x = element_text(angle = 90, hjust = 1, face = \"bold\"),\n",
    "        axis.text.y = element_blank()) + \n",
    "  geom_text(aes(label=Fact), vjust=-0.3, size=3) +\n",
    "  ylab(\"Количество населения\")"
   ]
  },
  {
   "cell_type": "markdown",
   "id": "6dede10b-d28d-42d1-9e24-7bebd9f3edd9",
   "metadata": {},
   "source": [
    "## Изменение демографии населения по годам"
   ]
  },
  {
   "cell_type": "code",
   "execution_count": 24,
   "id": "da4e39be-b1d7-40c6-b704-b49f8b462002",
   "metadata": {},
   "outputs": [
    {
     "data": {
      "image/png": "[encoded data removed]",
      "text/plain": [
       "plot without title"
      ]
     },
     "metadata": {
      "image/png": {
       "height": 420,
       "width": 420
      }
     },
     "output_type": "display_data"
    }
   ],
   "source": [
    "ggplot(present_df, aes(Year, Fact)) + \n",
    " stat_summary(fun.y = \"sum\", geom = \"point\", colour = \"red\", size = 2, na.rm = T) + \n",
    " stat_summary(fun.y = \"sum\", geom = \"line\", colour = \"red\", size = 1, na.rm = T) + \n",
    " scale_x_continuous(breaks= pretty_breaks()) + \n",
    " my_theme + theme(plot.title = element_text(hjust = 0.5, size = 14, face = \"bold\")) + \n",
    " ggtitle(\"Изменение общей демографии с 2000 года до 2023\") + \n",
    " xlab(\"Год\") + ylab(\"Количество\")"
   ]
  },
  {
   "cell_type": "markdown",
   "id": "70072da4-db9d-44cd-8239-d39472f5e2e8",
   "metadata": {},
   "source": [
    "## Проверка данных населения на нормальность распределения сгруппированная по годам"
   ]
  },
  {
   "cell_type": "code",
   "execution_count": 17,
   "id": "a4bda6b3-26ba-4782-8d26-f761f542efb9",
   "metadata": {},
   "outputs": [
    {
     "data": {
      "image/png": "[encoded data removed]",
      "text/plain": [
       "plot without title"
      ]
     },
     "metadata": {
      "image/png": {
       "height": 420,
       "width": 420
      }
     },
     "output_type": "display_data"
    }
   ],
   "source": [
    "ggplot(present_df, aes(sample = Fact, group = Year)) +\n",
    "  stat_qq(na.rm = T, color = 4) +\n",
    "  stat_qq_line(na.rm = T, color = 4) + \n",
    "  my_theme + theme(plot.title = element_text(hjust = 0.5, size = 14, face = \"bold\")) + \n",
    "  ggtitle(\"QQ-Plot для переменной Fact\")"
   ]
  },
  {
   "cell_type": "code",
   "execution_count": 18,
   "id": "45442d4b-e47b-4cc2-bc59-9f55ec8ff3fb",
   "metadata": {},
   "outputs": [
    {
     "name": "stdout",
     "output_type": "stream",
     "text": [
      "[1] \"Данные не соответствуют нормальному закону распределения\"\n"
     ]
    }
   ],
   "source": [
    "test <- shapiro.test(aggregate(Fact ~ Year, present_df, sum)[, 2])\n",
    "if (test$p.value > 0.05) {\n",
    "    print(\"Данные имеют нормальное распределение\")\n",
    "} else {\n",
    "    print(\"Данные не соответствуют нормальному закону распределения\")\n",
    "}"
   ]
  },
  {
   "cell_type": "markdown",
   "id": "5ac74dc9-0f7e-45bc-87c6-a12f8e470564",
   "metadata": {},
   "source": [
    "# Статистический анализ данных"
   ]
  },
  {
   "cell_type": "markdown",
   "id": "01d8d1e0-3a3b-4950-afdf-757010e4cb0c",
   "metadata": {},
   "source": [
    "**По графикам, представленным выше, можно точно сказать, что**  \n",
    "\n",
    "**Топ 5 самых населенных городов России**:\n",
    "1. Москва;\n",
    "2. Уфа;\n",
    "3. Краснодар;\n",
    "4. Тольятти;\n",
    "5. Ульяновск.\n",
    "  \n",
    "**Топ 5 самых ненаселенных городов России**:\n",
    "1. Алзамай;\n",
    "2. Курлово;\n",
    "3. Новохоперск;\n",
    "4. Гаврилов Посад;\n",
    "5. Сурск.\n",
    "  \n",
    "- *Данные фактического населения, сгруппированные по годам, не имеют нормальное распределение.*\n",
    "- *C 2000 по 2023 год наблюдается общий демографичесий рост, если заполнить пропуски значений ср. арифм. значениями населения для города.*"
   ]
  },
  {
   "cell_type": "markdown",
   "id": "b5e3c59b-906e-4644-b040-549f7df5ca33",
   "metadata": {},
   "source": [
    "## Выводы по визуализации\n",
    "1. Данные по численности населения очевидно не учитывают последствия COVID-2019 и СВО с 2022 года.\n",
    "2. Самые большие города - находятся в центральной России, где в целом умеренный климат. Маленькие города находятся ближе к Восточной Сибири, например, Алзамай. Погода суровее, чем в центральной России. Как вариант, климат влияет на кол-во людей, которое проживает в городе."
   ]
  },
  {
   "cell_type": "markdown",
   "id": "183b6a92-b26d-4410-842b-b84dc2e31987",
   "metadata": {},
   "source": [
    "## Проверка гипотез"
   ]
  },
  {
   "cell_type": "markdown",
   "id": "540bcae6-edab-4c6c-9c1e-2530ebb0f75f",
   "metadata": {},
   "source": [
    "### Гипотезы\n",
    "1. Более 1/4 населения страны проживает в Москве в 2023 году.\n",
    "2. За 2019 год численность населения упала более чем на 10% по сравнению с предыдущим годом. - Последствия COVID-2019\n",
    "3. За 2022 год наблюдается отток населения из больших городов более чем на 5%. - Влияние СВО."
   ]
  },
  {
   "cell_type": "markdown",
   "id": "6cf78d5b-ac5c-4971-8ac9-588484b16512",
   "metadata": {},
   "source": [
    "Найдем кол-во населения во всех городах вместе по годам"
   ]
  },
  {
   "cell_type": "code",
   "execution_count": 19,
   "id": "bb7822e9-1782-465d-a4e7-d58f275f5c7f",
   "metadata": {},
   "outputs": [],
   "source": [
    "year_sum_amount <- as.data.frame(present_df %>% group_by(Year) %>% summarise(sum_fact = sum(Fact)))"
   ]
  },
  {
   "cell_type": "markdown",
   "id": "9a0dddd5-0a25-4cb6-82a6-f771c13b94e8",
   "metadata": {},
   "source": [
    "### Гипотеза №1"
   ]
  },
  {
   "cell_type": "code",
   "execution_count": 20,
   "id": "24537e19-963b-48f4-bad8-ca83092683eb",
   "metadata": {},
   "outputs": [
    {
     "name": "stdout",
     "output_type": "stream",
     "text": [
      "[1] \"В Москве действительно проживает более 1/4 населения России в 2023 году.\"\n"
     ]
    }
   ],
   "source": [
    "# Более 1/4 населения страны проживает в Москве в 2023 году.\n",
    "Moscow_amount <- subset(present_df, City == \"Москва\" & Year == 2023)$Fact\n",
    "res <- (Moscow_amount / year_sum_amount$sum_fact[year_sum_amount$Year == 2023]) * 100\n",
    "if (res > 25) {\n",
    "    print(\"В Москве действительно проживает более 1/4 населения России в 2023 году.\")\n",
    "} else {\n",
    "    print(\"В Москве проживает менее 1/4 населения России в 2023 году.\")\n",
    "}"
   ]
  },
  {
   "cell_type": "markdown",
   "id": "6b70b28b-8786-4609-b0cc-79c44e554cc0",
   "metadata": {},
   "source": [
    "### Гипотеза №2"
   ]
  },
  {
   "cell_type": "code",
   "execution_count": 21,
   "id": "e17599c5-5264-471a-80cb-fc3f59e74df3",
   "metadata": {},
   "outputs": [
    {
     "name": "stdout",
     "output_type": "stream",
     "text": [
      "[1] \"За 2019 год население не упало более чем на 10%, нельзя утверждать, что COVID-2019 как то вмешался в общую демографию по стране.\"\n"
     ]
    }
   ],
   "source": [
    "# За 2019 год численность населения упала более чем на 10% по сравнению с предыдущим годом. - Последствия COVID-2019\n",
    "res <- year_sum_amount[year_sum_amount$Year %in% c(2018, 2020), ]\n",
    "# На сколько изменилось кол-во человек за 2019 год в городах суммарно \n",
    "result <- res$sum_fact[2] - res$sum_fact[1]\n",
    "\n",
    "# Проверка гипотезы\n",
    "if (abs(result) > (0.1 * res$sum_fact[1])) {\n",
    "    print(\"За 2019 год численность населения упала более чем на 10% по сравнению с предыдущим годом в результате COVID-2019\")\n",
    "} else {\n",
    "    print(\"За 2019 год население не упало более чем на 10%, нельзя утверждать, что COVID-2019 как то вмешался в общую демографию по стране.\")\n",
    "}"
   ]
  },
  {
   "cell_type": "markdown",
   "id": "df887efb-4c04-42cf-88a9-0b7e899961a7",
   "metadata": {},
   "source": [
    "### Гипотеза №3"
   ]
  },
  {
   "cell_type": "code",
   "execution_count": 22,
   "id": "bca3e125-2f5b-4227-ba53-a55fdf48c2ba",
   "metadata": {},
   "outputs": [],
   "source": [
    "# За 2022 год наблюдается отток населения из больших городов более чем на 5%. - Влияние СВО.\n",
    "\n",
    "# Оставим только 5 наибольших городов по населению в данных\n",
    "# Топ 5 самых больших городов\n",
    "res <- aggregate(Fact ~ City, df, FUN = max)\n",
    "res <- res[order(res$Fact, decreasing = T), ][1:5, ]; names(res)[2] <- \"Fact\"\n",
    "\n",
    "# Получим список городов и отфильтруем основные данные\n",
    "top_5_names <- res$City\n",
    "\n",
    "data_with_5_cities <- subset(present_df, City %in% top_5_names)\n",
    "res <- as.data.frame(data_with_5_cities %>% group_by(Year) %>% summarise(sum_fact = sum(Fact)))"
   ]
  },
  {
   "cell_type": "code",
   "execution_count": 23,
   "id": "212fe66e-808c-424f-a8bc-a8793be12e74",
   "metadata": {},
   "outputs": [
    {
     "name": "stderr",
     "output_type": "stream",
     "text": [
      "\u001b[1m\u001b[22m`geom_smooth()` using formula = 'y ~ x'\n"
     ]
    },
    {
     "data": {
      "image/png": "[encoded data removed]",
      "text/plain": [
       "plot without title"
      ]
     },
     "metadata": {
      "image/png": {
       "height": 420,
       "width": 420
      }
     },
     "output_type": "display_data"
    }
   ],
   "source": [
    "# Линия тренда населения по 5 городам\n",
    "ggplot(res, aes(x = Year, y = sum_fact)) + \n",
    "    my_theme + \n",
    "    geom_point() + \n",
    "    geom_smooth(method = \"lm\", level = 0.98)"
   ]
  },
  {
   "cell_type": "markdown",
   "id": "224c778d-8935-4fc8-81c1-552460ce1091",
   "metadata": {},
   "source": [
    "По графику видно отчетливо, что линия тренда строго возрастающая. То есть никакого оттока из крупных городов нет. Но опять же данный вывод исходит только из имеющейся полноты данных."
   ]
  },
  {
   "cell_type": "markdown",
   "id": "5a20342e-fab8-4ed1-9aa5-acf0245c10a0",
   "metadata": {},
   "source": [
    "## Выводы по гипотезам"
   ]
  },
  {
   "cell_type": "markdown",
   "id": "c38cc93b-5e51-4a24-870c-abde3bb2b511",
   "metadata": {},
   "source": [
    "1. В Москве действительно проживает более 1/4 населения России в 2023 году.\n",
    "2. За 2019 год население не упало более чем на 10%, нельзя утверждать, что COVID-2019 как то вмешался в общую демографию по стране.\n",
    "3. За 2022 год не наблюдается оттока населения из больших городов более чем на 5%. - Влияние СВО."
   ]
  }
 ],
 "metadata": {
  "kernelspec": {
   "display_name": "R",
   "language": "R",
   "name": "ir"
  },
  "language_info": {
   "codemirror_mode": "r",
   "file_extension": ".r",
   "mimetype": "text/x-r-source",
   "name": "R",
   "pygments_lexer": "r",
   "version": "4.3.2"
  }
 },
 "nbformat": 4,
 "nbformat_minor": 5
}
